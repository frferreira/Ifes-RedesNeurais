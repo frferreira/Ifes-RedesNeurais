{
  "nbformat": 4,
  "nbformat_minor": 0,
  "metadata": {
    "colab": {
      "provenance": [],
      "include_colab_link": true
    },
    "kernelspec": {
      "name": "python3",
      "display_name": "Python 3"
    },
    "language_info": {
      "name": "python"
    }
  },
  "cells": [
    {
      "cell_type": "markdown",
      "metadata": {
        "id": "view-in-github",
        "colab_type": "text"
      },
      "source": [
        "<a href=\"https://colab.research.google.com/github/frferreira/Ifes-RedesNeurais/blob/main/local_mnist.ipynb\" target=\"_parent\"><img src=\"https://colab.research.google.com/assets/colab-badge.svg\" alt=\"Open In Colab\"/></a>"
      ]
    },
    {
      "cell_type": "code",
      "source": [
        "from google.colab import drive\n",
        "drive.mount('/content/drive/')"
      ],
      "metadata": {
        "colab": {
          "base_uri": "https://localhost:8080/"
        },
        "id": "5JqYfi7l8DIO",
        "outputId": "26e6a04e-b92d-4f5a-96a1-bdb8299fb3ea"
      },
      "execution_count": 10,
      "outputs": [
        {
          "output_type": "stream",
          "name": "stdout",
          "text": [
            "Drive already mounted at /content/drive/; to attempt to forcibly remount, call drive.mount(\"/content/drive/\", force_remount=True).\n"
          ]
        }
      ]
    },
    {
      "cell_type": "code",
      "source": [
        "import numpy as np # linear algebra\n",
        "import struct\n",
        "from array import array\n",
        "from os.path  import join\n",
        "\n",
        "#\n",
        "# MNIST Data Loader Class\n",
        "#\n",
        "class MnistDataloader(object):\n",
        "    def __init__(self, training_images_filepath,training_labels_filepath,\n",
        "                 test_images_filepath, test_labels_filepath):\n",
        "        self.training_images_filepath = training_images_filepath\n",
        "        self.training_labels_filepath = training_labels_filepath\n",
        "        self.test_images_filepath = test_images_filepath\n",
        "        self.test_labels_filepath = test_labels_filepath\n",
        "    \n",
        "    def read_images_labels(self, images_filepath, labels_filepath):        \n",
        "        labels = []\n",
        "        with open(labels_filepath, 'rb') as file:\n",
        "            magic, size = struct.unpack(\">II\", file.read(8))\n",
        "            if magic != 2049:\n",
        "                raise ValueError('Magic number mismatch, expected 2049, got {}'.format(magic))\n",
        "            labels = array(\"B\", file.read())        \n",
        "        \n",
        "        with open(images_filepath, 'rb') as file:\n",
        "            magic, size, rows, cols = struct.unpack(\">IIII\", file.read(16))\n",
        "            if magic != 2051:\n",
        "                raise ValueError('Magic number mismatch, expected 2051, got {}'.format(magic))\n",
        "            image_data = array(\"B\", file.read())        \n",
        "        images = []\n",
        "        for i in range(size):\n",
        "            images.append([0] * rows * cols)\n",
        "        for i in range(size):\n",
        "            img = np.array(image_data[i * rows * cols:(i + 1) * rows * cols])\n",
        "            img = img.reshape(28, 28)\n",
        "            images[i][:] = img            \n",
        "        \n",
        "        return images, labels\n",
        "            \n",
        "    def load_data(self):\n",
        "        x_train, y_train = self.read_images_labels(self.training_images_filepath, self.training_labels_filepath)\n",
        "        x_test, y_test = self.read_images_labels(self.test_images_filepath, self.test_labels_filepath)\n",
        "        return (x_train, y_train),(x_test, y_test)        \n",
        "\n",
        "#\n",
        "# Verify Reading Dataset via MnistDataloader class\n",
        "#\n",
        "%matplotlib inline\n",
        "import random\n",
        "import matplotlib.pyplot as plt\n",
        "\n",
        "#\n",
        "# Set file paths based on added MNIST Datasets\n",
        "#\n",
        "input_path = '/content/drive/MyDrive/Academico/Mestrado/RedeNeurais/'\n",
        "training_images_filepath = join(input_path, 'train-images-idx3-ubyte/train-images-idx3-ubyte')\n",
        "training_labels_filepath = join(input_path, 'train-labels-idx1-ubyte/train-labels-idx1-ubyte')\n",
        "test_images_filepath = join(input_path, 't10k-images-idx3-ubyte/t10k-images-idx3-ubyte')\n",
        "test_labels_filepath = join(input_path, 't10k-labels-idx1-ubyte/t10k-labels-idx1-ubyte')\n",
        "\n",
        "\n",
        "mnist_dataloader = MnistDataloader(training_images_filepath, training_labels_filepath, test_images_filepath, test_labels_filepath)\n",
        "(train_images, train_labels), (test_images, test_labels) = mnist_dataloader.load_data()\n",
        "\n"
      ],
      "metadata": {
        "id": "KQWjySox8ZlZ"
      },
      "execution_count": 11,
      "outputs": []
    },
    {
      "cell_type": "code",
      "source": [
        "train_images = np.array(train_images)\n",
        "train_labels = np.array(train_labels)\n",
        "test_images = np.array(test_images)\n",
        "test_labels = np.array(test_labels)"
      ],
      "metadata": {
        "id": "DaoEhqJi_UV-"
      },
      "execution_count": 12,
      "outputs": []
    },
    {
      "cell_type": "code",
      "source": [
        "train_images.shape, len(train_labels), train_labels"
      ],
      "metadata": {
        "colab": {
          "base_uri": "https://localhost:8080/"
        },
        "id": "Gcqlvdpgfj6T",
        "outputId": "230f9f1f-5612-4225-b2c2-dd91cb7bab85"
      },
      "execution_count": 13,
      "outputs": [
        {
          "output_type": "execute_result",
          "data": {
            "text/plain": [
              "((60000, 28, 28), 60000, array([5, 0, 4, ..., 5, 6, 8], dtype=uint8))"
            ]
          },
          "metadata": {},
          "execution_count": 13
        }
      ]
    },
    {
      "cell_type": "code",
      "source": [
        "import matplotlib.pyplot as plt\n",
        "%matplotlib inline\n",
        "\n",
        "plt.imshow(train_images[0], cmap='gray')\n",
        "plt.show()"
      ],
      "metadata": {
        "colab": {
          "base_uri": "https://localhost:8080/",
          "height": 430
        },
        "id": "t0sSA-3PgPq-",
        "outputId": "eee99765-0715-4843-d18b-dc0719ac2204"
      },
      "execution_count": 14,
      "outputs": [
        {
          "output_type": "display_data",
          "data": {
            "text/plain": [
              "<Figure size 640x480 with 1 Axes>"
            ],
            "image/png": "[encoded data removed]"
          },
          "metadata": {}
        }
      ]
    },
    {
      "cell_type": "code",
      "source": [
        "test_images.shape, len(test_labels), test_labels"
      ],
      "metadata": {
        "colab": {
          "base_uri": "https://localhost:8080/"
        },
        "id": "PJ8PpU2FfoT2",
        "outputId": "57a1556c-ed7e-44d9-8d5d-e41e95c69121"
      },
      "execution_count": 15,
      "outputs": [
        {
          "output_type": "execute_result",
          "data": {
            "text/plain": [
              "((10000, 28, 28), 10000, array([7, 2, 1, ..., 4, 5, 6], dtype=uint8))"
            ]
          },
          "metadata": {},
          "execution_count": 15
        }
      ]
    },
    {
      "cell_type": "code",
      "source": [
        "from tensorflow import keras\n",
        "from tensorflow.keras import layers\n",
        "model = keras.Sequential([\n",
        "    layers.Dense(512, activation=\"relu\"),\n",
        "    layers.Dense(10, activation=\"softmax\")\n",
        "])"
      ],
      "metadata": {
        "id": "ahDOnrzvf0PV"
      },
      "execution_count": 16,
      "outputs": []
    },
    {
      "cell_type": "code",
      "source": [
        "model.compile(optimizer=\"rmsprop\",\n",
        "              loss=\"sparse_categorical_crossentropy\",\n",
        "              metrics=[\"accuracy\"])"
      ],
      "metadata": {
        "id": "XkggT9gIiFg7"
      },
      "execution_count": 17,
      "outputs": []
    },
    {
      "cell_type": "code",
      "source": [
        "train_images = train_images.reshape((60000, 28 * 28))\n",
        "train_images = train_images.astype(\"float32\") / 255\n",
        "test_images = test_images.reshape((10000, 28 * 28))\n",
        "test_images = test_images.astype(\"float32\") / 255"
      ],
      "metadata": {
        "id": "oGlkliSUi7ot"
      },
      "execution_count": 18,
      "outputs": []
    },
    {
      "cell_type": "code",
      "source": [
        "(train_images.shape, train_labels), (test_images.shape, test_labels)"
      ],
      "metadata": {
        "colab": {
          "base_uri": "https://localhost:8080/"
        },
        "id": "M555L5eDkRTf",
        "outputId": "f2b7d199-611d-4bac-f839-23b988049e06"
      },
      "execution_count": 19,
      "outputs": [
        {
          "output_type": "execute_result",
          "data": {
            "text/plain": [
              "(((60000, 784), array([5, 0, 4, ..., 5, 6, 8], dtype=uint8)),\n",
              " ((10000, 784), array([7, 2, 1, ..., 4, 5, 6], dtype=uint8)))"
            ]
          },
          "metadata": {},
          "execution_count": 19
        }
      ]
    },
    {
      "cell_type": "code",
      "source": [
        "model.fit(train_images, train_labels, epochs=5, batch_size=128)"
      ],
      "metadata": {
        "colab": {
          "base_uri": "https://localhost:8080/"
        },
        "id": "fLTBB7dEkX7R",
        "outputId": "73a95e34-2b3e-40c9-fd26-34ce2004f327"
      },
      "execution_count": 20,
      "outputs": [
        {
          "output_type": "stream",
          "name": "stdout",
          "text": [
            "Epoch 1/5\n",
            "469/469 [==============================] - 5s 10ms/step - loss: 0.2632 - accuracy: 0.9245\n",
            "Epoch 2/5\n",
            "469/469 [==============================] - 6s 12ms/step - loss: 0.1079 - accuracy: 0.9679\n",
            "Epoch 3/5\n",
            "469/469 [==============================] - 5s 11ms/step - loss: 0.0704 - accuracy: 0.9784\n",
            "Epoch 4/5\n",
            "469/469 [==============================] - 4s 10ms/step - loss: 0.0514 - accuracy: 0.9848\n",
            "Epoch 5/5\n",
            "469/469 [==============================] - 6s 12ms/step - loss: 0.0389 - accuracy: 0.9883\n"
          ]
        },
        {
          "output_type": "execute_result",
          "data": {
            "text/plain": [
              "<keras.callbacks.History at 0x7f531adc1510>"
            ]
          },
          "metadata": {},
          "execution_count": 20
        }
      ]
    },
    {
      "cell_type": "code",
      "source": [
        "predicted = model.predict(test_images[0:1])\n",
        "predicted[0]"
      ],
      "metadata": {
        "colab": {
          "base_uri": "https://localhost:8080/"
        },
        "id": "KLFJzUn5k15k",
        "outputId": "e2e76a7c-3a5f-4cf0-d88c-ecb0a66be0ab"
      },
      "execution_count": 21,
      "outputs": [
        {
          "output_type": "stream",
          "name": "stdout",
          "text": [
            "1/1 [==============================] - 0s 92ms/step\n"
          ]
        },
        {
          "output_type": "execute_result",
          "data": {
            "text/plain": [
              "array([1.3155294e-08, 1.3487975e-09, 7.2344187e-06, 3.1322063e-06,\n",
              "       2.4551612e-11, 1.5960044e-08, 3.9957870e-13, 9.9998939e-01,\n",
              "       4.2237769e-08, 1.8965034e-07], dtype=float32)"
            ]
          },
          "metadata": {},
          "execution_count": 21
        }
      ]
    },
    {
      "cell_type": "code",
      "source": [
        "predicted[0].argmax()"
      ],
      "metadata": {
        "colab": {
          "base_uri": "https://localhost:8080/"
        },
        "id": "qktJXuz4lI0h",
        "outputId": "55c9b8dc-f6de-4538-b381-1107f783d555"
      },
      "execution_count": 22,
      "outputs": [
        {
          "output_type": "execute_result",
          "data": {
            "text/plain": [
              "7"
            ]
          },
          "metadata": {},
          "execution_count": 22
        }
      ]
    },
    {
      "cell_type": "code",
      "source": [
        "predicted[0][7]"
      ],
      "metadata": {
        "colab": {
          "base_uri": "https://localhost:8080/"
        },
        "id": "5OFbgBU2lXEh",
        "outputId": "84136ddb-5b97-4179-cad1-93ba85b3d40b"
      },
      "execution_count": 23,
      "outputs": [
        {
          "output_type": "execute_result",
          "data": {
            "text/plain": [
              "0.9999894"
            ]
          },
          "metadata": {},
          "execution_count": 23
        }
      ]
    },
    {
      "cell_type": "code",
      "source": [
        "test_labels[0]"
      ],
      "metadata": {
        "colab": {
          "base_uri": "https://localhost:8080/"
        },
        "id": "WqkI15rKli40",
        "outputId": "1ea36777-7a7d-4567-c3c2-01479e19ad43"
      },
      "execution_count": 24,
      "outputs": [
        {
          "output_type": "execute_result",
          "data": {
            "text/plain": [
              "7"
            ]
          },
          "metadata": {},
          "execution_count": 24
        }
      ]
    },
    {
      "cell_type": "code",
      "source": [
        "test_loss, test_acc = model.evaluate(test_images, test_labels)\n",
        "print(f\"test_acc: {test_acc}\")"
      ],
      "metadata": {
        "colab": {
          "base_uri": "https://localhost:8080/"
        },
        "id": "BdP49CnTlnff",
        "outputId": "33ba1355-48e2-41aa-c3a5-83f428f520da"
      },
      "execution_count": 25,
      "outputs": [
        {
          "output_type": "stream",
          "name": "stdout",
          "text": [
            "313/313 [==============================] - 1s 3ms/step - loss: 0.0700 - accuracy: 0.9788\n",
            "test_acc: 0.9787999987602234\n"
          ]
        }
      ]
    },
    {
      "cell_type": "code",
      "source": [
        "from tensorflow.keras.utils import to_categorical\n",
        "train_labels_hot = to_categorical(train_labels)\n",
        "test_labels_hot = to_categorical(test_labels)"
      ],
      "metadata": {
        "id": "p1wYjLX_ptkS"
      },
      "execution_count": 26,
      "outputs": []
    },
    {
      "cell_type": "code",
      "source": [
        "from keras.utils.sidecar_evaluator import optimizer\n",
        "from prompt_toolkit.shortcuts.progress_bar.base import E\n",
        "from sklearn.base import BaseEstimator, ClassifierMixin\n",
        "from tensorflow import keras\n",
        "from tensorflow.keras import layers\n",
        "from sklearn.metrics import accuracy_score\n",
        "import numpy as np\n",
        "\n",
        "class RedeNeural(BaseEstimator, ClassifierMixin):\n",
        "  def __init__(self, epochs=5, batch_size=128):\n",
        "    self.epochs = epochs\n",
        "    self.batch_size = batch_size\n",
        "  def fit(self, X, y):\n",
        "    self.model = keras.Sequential([\n",
        "        layers.Dense(512, activation=\"relu\"),\n",
        "        layers.Dense(y.shape[1], activation=\"softmax\")\n",
        "    ])\n",
        "    self.model.compile(optimizer=\"rmsprop\",\n",
        "                       loss=\"categorical_crossentropy\",\n",
        "                       metrics=[\"accuracy\"])\n",
        "    self.model.fit(X, y, epochs=self.epochs, batch_size=self.batch_size)\n",
        "    return self\n",
        "  def predict(self, X, y=None):\n",
        "    probabilities = self.model.predict(X)\n",
        "    return np.array([(a == np.max(a)) for a in probabilities])\n",
        "\n",
        "modelo = RedeNeural()\n",
        "modelo.fit(train_images, train_labels_hot)\n",
        "ypred = modelo.predict(test_images)\n",
        "accuracy_score(test_labels_hot, ypred)"
      ],
      "metadata": {
        "colab": {
          "base_uri": "https://localhost:8080/"
        },
        "id": "g0GlrfoVmDPy",
        "outputId": "21dd31cc-2aef-4f05-f41c-6fb986fdf13d"
      },
      "execution_count": 27,
      "outputs": [
        {
          "output_type": "stream",
          "name": "stdout",
          "text": [
            "Epoch 1/5\n",
            "469/469 [==============================] - 5s 10ms/step - loss: 0.2619 - accuracy: 0.9254\n",
            "Epoch 2/5\n",
            "469/469 [==============================] - 6s 13ms/step - loss: 0.1052 - accuracy: 0.9693\n",
            "Epoch 3/5\n",
            "469/469 [==============================] - 4s 9ms/step - loss: 0.0697 - accuracy: 0.9790\n",
            "Epoch 4/5\n",
            "469/469 [==============================] - 5s 10ms/step - loss: 0.0514 - accuracy: 0.9845\n",
            "Epoch 5/5\n",
            "469/469 [==============================] - 6s 12ms/step - loss: 0.0384 - accuracy: 0.9884\n",
            "313/313 [==============================] - 1s 3ms/step\n"
          ]
        },
        {
          "output_type": "execute_result",
          "data": {
            "text/plain": [
              "0.9807"
            ]
          },
          "metadata": {},
          "execution_count": 27
        }
      ]
    },
    {
      "cell_type": "code",
      "source": [
        "from keras.utils.sidecar_evaluator import optimizer\n",
        "from prompt_toolkit.shortcuts.progress_bar.base import E\n",
        "from sklearn.base import BaseEstimator, ClassifierMixin\n",
        "from tensorflow import keras\n",
        "from tensorflow.keras import layers\n",
        "from sklearn.metrics import accuracy_score\n",
        "import numpy as np\n",
        "\n",
        "class RedeNeural(BaseEstimator, ClassifierMixin):\n",
        "  def __init__(self, epochs=5, batch_size=128):\n",
        "    self.epochs = epochs\n",
        "    self.batch_size = batch_size\n",
        "\n",
        "  def fit(self, X, y):\n",
        "    self.labels, ids = np.unique(y, return_inverse=True)\n",
        "    yhot = keras.utils.to_categorical(ids)\n",
        "    self.model = keras.Sequential([\n",
        "        layers.Dense(512, activation=\"relu\"),\n",
        "        layers.Dense(yhot.shape[1], activation=\"softmax\")\n",
        "    ])\n",
        "    self.model.compile(optimizer=\"rmsprop\",\n",
        "                       loss=\"categorical_crossentropy\",\n",
        "                       metrics=[\"accuracy\"])\n",
        "    self.model.fit(X, yhot, epochs=self.epochs, batch_size=self.batch_size)\n",
        "    return self\n",
        "\n",
        "  def predict(self, X, y=None):\n",
        "    probabilities = self.model.predict(X)\n",
        "    ypred = self.labels[np.argmax(probabilities, axis=1)]\n",
        "    return ypred\n",
        "\n",
        "modelo = RedeNeural()\n",
        "modelo.fit(train_images, train_labels)\n",
        "ypred = modelo.predict(test_images)\n",
        "accuracy_score(test_labels, ypred)"
      ],
      "metadata": {
        "colab": {
          "base_uri": "https://localhost:8080/"
        },
        "id": "biZxY9y-tvsu",
        "outputId": "e1bb4fc7-5637-491e-824c-536e07cf90e8"
      },
      "execution_count": 28,
      "outputs": [
        {
          "output_type": "stream",
          "name": "stdout",
          "text": [
            "Epoch 1/5\n",
            "469/469 [==============================] - 5s 10ms/step - loss: 0.2669 - accuracy: 0.9227\n",
            "Epoch 2/5\n",
            "469/469 [==============================] - 6s 13ms/step - loss: 0.1080 - accuracy: 0.9682\n",
            "Epoch 3/5\n",
            "469/469 [==============================] - 4s 10ms/step - loss: 0.0705 - accuracy: 0.9790\n",
            "Epoch 4/5\n",
            "469/469 [==============================] - 4s 10ms/step - loss: 0.0506 - accuracy: 0.9845\n",
            "Epoch 5/5\n",
            "469/469 [==============================] - 6s 13ms/step - loss: 0.0378 - accuracy: 0.9890\n",
            "313/313 [==============================] - 1s 3ms/step\n"
          ]
        },
        {
          "output_type": "execute_result",
          "data": {
            "text/plain": [
              "0.9815"
            ]
          },
          "metadata": {},
          "execution_count": 28
        }
      ]
    },
    {
      "cell_type": "code",
      "source": [
        "from tensorflow.keras.datasets import mnist\n",
        "(train_images, train_labels), (test_images, test_labels) = mnist.load_data()"
      ],
      "metadata": {
        "id": "5yojlp9iu-Pv",
        "colab": {
          "base_uri": "https://localhost:8080/"
        },
        "outputId": "fa614666-2f58-4a22-9234-781ef7182ec2"
      },
      "execution_count": 29,
      "outputs": [
        {
          "output_type": "stream",
          "name": "stdout",
          "text": [
            "Downloading data from https://storage.googleapis.com/tensorflow/tf-keras-datasets/mnist.npz\n",
            "11490434/11490434 [==============================] - 1s 0us/step\n"
          ]
        }
      ]
    },
    {
      "cell_type": "code",
      "source": [
        "train_images = train_images.reshape((60000, 28 * 28))\n",
        "test_images = test_images.reshape((10000, 28 * 28))"
      ],
      "metadata": {
        "id": "UyHTc6_-vP5J"
      },
      "execution_count": 30,
      "outputs": []
    },
    {
      "cell_type": "code",
      "source": [
        "from sklearn.pipeline import Pipeline\n",
        "from sklearn.preprocessing import MinMaxScaler\n",
        "\n",
        "modelo = Pipeline([\n",
        "    (\"scaler\", MinMaxScaler()), \n",
        "    (\"ann\", RedeNeural())\n",
        "])\n",
        "modelo.fit(train_images, train_labels)\n",
        "ypred = modelo.predict(test_images)\n",
        "accuracy_score(test_labels, ypred)"
      ],
      "metadata": {
        "colab": {
          "base_uri": "https://localhost:8080/"
        },
        "id": "MZmjfs0evAvR",
        "outputId": "eed6ce96-c05c-43fa-c510-16b2028c4d45"
      },
      "execution_count": 31,
      "outputs": [
        {
          "output_type": "stream",
          "name": "stdout",
          "text": [
            "Epoch 1/5\n",
            "469/469 [==============================] - 6s 12ms/step - loss: 0.2637 - accuracy: 0.9241\n",
            "Epoch 2/5\n",
            "469/469 [==============================] - 8s 17ms/step - loss: 0.1076 - accuracy: 0.9678\n",
            "Epoch 3/5\n",
            "469/469 [==============================] - 10s 21ms/step - loss: 0.0704 - accuracy: 0.9787\n",
            "Epoch 4/5\n",
            "469/469 [==============================] - 6s 14ms/step - loss: 0.0518 - accuracy: 0.9847\n",
            "Epoch 5/5\n",
            "469/469 [==============================] - 6s 13ms/step - loss: 0.0381 - accuracy: 0.9889\n",
            "313/313 [==============================] - 1s 3ms/step\n"
          ]
        },
        {
          "output_type": "execute_result",
          "data": {
            "text/plain": [
              "0.9796"
            ]
          },
          "metadata": {},
          "execution_count": 31
        }
      ]
    },
    {
      "cell_type": "code",
      "source": [
        "from sklearn.base import BaseEstimator, TransformerMixin\n",
        "\n",
        "class DividePor255(BaseEstimator, TransformerMixin):\n",
        "  def fit(self, X, y):\n",
        "    return self\n",
        "  def transform(self, X, y=None):\n",
        "    return X.astype(\"float32\") / 255\n",
        "\n",
        "from sklearn.pipeline import Pipeline\n",
        "\n",
        "modelo = Pipeline([\n",
        "    (\"scaler\", DividePor255()), \n",
        "    (\"ann\", RedeNeural())\n",
        "])\n",
        "modelo.fit(train_images, train_labels)\n",
        "ypred = modelo.predict(test_images)\n",
        "accuracy_score(test_labels, ypred)"
      ],
      "metadata": {
        "colab": {
          "base_uri": "https://localhost:8080/"
        },
        "id": "H4orTgf1yoJL",
        "outputId": "3b8ad883-e9ab-4a03-d357-e35042a46ede"
      },
      "execution_count": 32,
      "outputs": [
        {
          "output_type": "stream",
          "name": "stdout",
          "text": [
            "Epoch 1/5\n",
            "469/469 [==============================] - 6s 11ms/step - loss: 0.2617 - accuracy: 0.9237\n",
            "Epoch 2/5\n",
            "469/469 [==============================] - 5s 11ms/step - loss: 0.1053 - accuracy: 0.9690\n",
            "Epoch 3/5\n",
            "469/469 [==============================] - 4s 9ms/step - loss: 0.0696 - accuracy: 0.9792\n",
            "Epoch 4/5\n",
            "469/469 [==============================] - 5s 11ms/step - loss: 0.0504 - accuracy: 0.9850\n",
            "Epoch 5/5\n",
            "469/469 [==============================] - 5s 11ms/step - loss: 0.0382 - accuracy: 0.9889\n",
            "313/313 [==============================] - 1s 3ms/step\n"
          ]
        },
        {
          "output_type": "execute_result",
          "data": {
            "text/plain": [
              "0.9807"
            ]
          },
          "metadata": {},
          "execution_count": 32
        }
      ]
    },
    {
      "cell_type": "code",
      "source": [
        "mnist_dataloader = MnistDataloader(training_images_filepath, training_labels_filepath, test_images_filepath, test_labels_filepath)\n",
        "(train_images, train_labels), (test_images, test_labels) = mnist_dataloader.load_data()"
      ],
      "metadata": {
        "id": "ithmDGLSz9fj"
      },
      "execution_count": 33,
      "outputs": []
    },
    {
      "cell_type": "code",
      "source": [
        "train_images = np.array(train_images)\n",
        "train_labels = np.array(train_labels)\n",
        "test_images = np.array(test_images)\n",
        "test_labels = np.array(test_labels)"
      ],
      "metadata": {
        "id": "z1fHMRhfAnuQ"
      },
      "execution_count": 34,
      "outputs": []
    },
    {
      "cell_type": "code",
      "source": [
        "from keras.utils.sidecar_evaluator import optimizer\n",
        "from prompt_toolkit.shortcuts.progress_bar.base import E\n",
        "from sklearn.base import BaseEstimator, ClassifierMixin\n",
        "from tensorflow import keras\n",
        "from tensorflow.keras import layers\n",
        "from sklearn.metrics import accuracy_score\n",
        "import numpy as np\n",
        "\n",
        "class RedeNeural(BaseEstimator, ClassifierMixin):\n",
        "  def __init__(self, epochs=5, batch_size=128):\n",
        "    self.epochs = epochs\n",
        "    self.batch_size = batch_size\n",
        "\n",
        "  def fit(self, X, y):\n",
        "    self.labels, ids = np.unique(y, return_inverse=True)\n",
        "    yhot = keras.utils.to_categorical(ids)\n",
        "    self.model = keras.Sequential([\n",
        "        layers.Conv2D(4, 4, activation='relu'),\n",
        "        layers.Flatten(),\n",
        "        layers.Dense(512, activation=\"relu\"),\n",
        "        layers.Dense(yhot.shape[1], activation=\"softmax\")\n",
        "    ])\n",
        "    self.model.compile(optimizer=\"rmsprop\",\n",
        "                       loss=\"categorical_crossentropy\",\n",
        "                       metrics=[\"accuracy\"])\n",
        "    self.model.fit(X, yhot, epochs=self.epochs, batch_size=self.batch_size)\n",
        "    return self\n",
        "\n",
        "  def predict(self, X, y=None):\n",
        "    probabilities = self.model.predict(X)\n",
        "    ypred = self.labels[np.argmax(probabilities, axis=1)]\n",
        "    return ypred\n",
        "\n",
        "class MudaShape(BaseEstimator, TransformerMixin):\n",
        "  def fit(self, X, y):\n",
        "    return self\n",
        "  def transform(self, X, y=None):\n",
        "    return X.reshape((-1,28,28,1))\n",
        "\n",
        "modelo = Pipeline([\n",
        "    (\"scaler\", DividePor255()), \n",
        "    (\"reshape\", MudaShape()), \n",
        "    (\"ann\", RedeNeural())\n",
        "])\n",
        "modelo.fit(train_images, train_labels)\n",
        "ypred = modelo.predict(test_images)\n",
        "accuracy_score(test_labels, ypred)"
      ],
      "metadata": {
        "colab": {
          "base_uri": "https://localhost:8080/"
        },
        "id": "l6Jp9PoTzqgd",
        "outputId": "19699935-3edd-402c-98ae-0b535826263e"
      },
      "execution_count": 35,
      "outputs": [
        {
          "output_type": "stream",
          "name": "stdout",
          "text": [
            "Epoch 1/5\n",
            "469/469 [==============================] - 31s 64ms/step - loss: 0.2243 - accuracy: 0.9306\n",
            "Epoch 2/5\n",
            "469/469 [==============================] - 31s 66ms/step - loss: 0.0701 - accuracy: 0.9781\n",
            "Epoch 3/5\n",
            "469/469 [==============================] - 31s 66ms/step - loss: 0.0411 - accuracy: 0.9871\n",
            "Epoch 4/5\n",
            "469/469 [==============================] - 30s 65ms/step - loss: 0.0275 - accuracy: 0.9914\n",
            "Epoch 5/5\n",
            "469/469 [==============================] - 31s 65ms/step - loss: 0.0175 - accuracy: 0.9945\n",
            "313/313 [==============================] - 2s 7ms/step\n"
          ]
        },
        {
          "output_type": "execute_result",
          "data": {
            "text/plain": [
              "0.9859"
            ]
          },
          "metadata": {},
          "execution_count": 35
        }
      ]
    }
  ]
}